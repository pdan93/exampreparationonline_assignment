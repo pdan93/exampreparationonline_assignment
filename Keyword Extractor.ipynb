{
 "cells": [
  {
   "cell_type": "code",
   "execution_count": 55,
   "metadata": {},
   "outputs": [],
   "source": [
    "import nltk\n",
    "import re\n",
    "from tika import parser"
   ]
  },
  {
   "cell_type": "code",
   "execution_count": 7,
   "metadata": {},
   "outputs": [
    {
     "name": "stderr",
     "output_type": "stream",
     "text": [
      "2018-07-24 09:53:18,470 [MainThread  ] [INFO ]  Retrieving http://search.maven.org/remotecontent?filepath=org/apache/tika/tika-server/1.16/tika-server-1.16.jar to /tmp/tika-server.jar.\n",
      "2018-07-24 09:53:40,660 [MainThread  ] [INFO ]  Retrieving http://search.maven.org/remotecontent?filepath=org/apache/tika/tika-server/1.16/tika-server-1.16.jar.md5 to /tmp/tika-server.jar.md5.\n"
     ]
    }
   ],
   "source": [
    "raw = parser.from_file(\"JavaBasics-notes.pdf\")"
   ]
  },
  {
   "cell_type": "code",
   "execution_count": 90,
   "metadata": {},
   "outputs": [
    {
     "name": "stdout",
     "output_type": "stream",
     "text": [
      "                                     Java Basics  © 1996-2003 jGuru.com. All Rights Reserved. Java Basics -1  Java Basics Topics in this section include:  • What makes Java programs portable, secure, and robust  • The structure of Java applets and applications  • How Java applications are executed  • How applets are invoked and executed  • The Java Language, Part I  • Comments  • Declarations  • Expressions  • Statements  • Garbage collection  • Java Semantics  Portability Java programs are portable across operating systems and hardware environments. Portability is to your advantage because:  • You need only one version of your software to serve a broad market.  • The Internet, in effect, becomes one giant, dynamic library.  • You are no longer limited by your particular computer platform.  Three features make Java String programs portable:  1. The language. The Java language is completely specified; all data-type sizes and formats are defined as part of the language. By contrast, C/C++ leaves these \"details\" up to the compiler implementor, and many C/C++ programs therefore    Java Basics  Java Basics -2 © 1996-2003 jGuru.com. All Rights Reserved.  are not portable.  2. The library. The Java class library is available on any machine with a Java runtime system, because a portable program is of no use if you cannot use the same class library on every platform. Window-manager function calls in a Mac application written in C/C++, for example, do not port well to a PC.  3. The byte code. The Java runtime system does not compile your source code directly into machine language, an inflexible and nonportable representation of your program. Instead, Java programs are translated into machine-independent byte code. The byte code is easily interpreted and therefore can be executed on any platform having a Java runtime system. (The latest versions of the Netscape Navigator browser, for example, can run applets on virtually any platform).  Security The Java language is secure in that it is very difficult to write incorrect code or viruses that can corrupt/steal your data, or harm hardware such as hard disks. There are two main lines of defense:  • Interpreter level:  • No pointer arithmetic  • Garbage collection  • Array bounds checking  • No illegal data conversions  • Browser level (applies to applets only):  • No local file I/O  • Sockets back to host only  • No calls to native methods  Robustness The Java language is robust. It has several features designed to avoid crashes during program execution, including:  • No pointer arithmetic    Java Basics  © 1996-2003 jGuru.com. All Rights Reserved. Java Basics -3  • Garbage collection--no bad addresses  • Array and string bounds checking  • No jumping to bad method addresses  • Interfaces and exceptions  Java Program Structure A file containing Java source code is considered a compilation unit. Such a compilation unit contains a set of classes and, optionally, a package definition to group related classes together. Classes contain data and method members that specify the state and behavior of the objects in your program.  Java programs come in two flavors:  • Standalone applications that have no initial context such as a pre-existing main window  • Applets for WWW programming  The major differences between applications and applets are:  • Applets are not allowed to use file I/O and sockets (other than to the host platform). Applications do not have these restrictions.  • An applet must be a subclass of the Java Applet class. Aplications do not need to subclass any particular class.  • Unlike applets, applications can have menus.  • Unlike applications, applets need to respond to predefined lifecycle messages from the WWW browser in which they're running.  Java Program Execution The Java byte-code compiler translates a Java source file into machine- independent byte code. The byte code for each publicly visible class is placed in a separate file, so that the Java runtime system can easily find it. If your program instantiates an object of class A, for example, the class loader searches the directories listed in your CLASSPATH environment variable for a file called A.class that contains the class definition and byte code for class A.  There is no link phase for Java programs; all linking is done dynamically at    Java Basics  Java Basics -4 © 1996-2003 jGuru.com. All Rights Reserved.  runtime.  The following diagram shows an example of the Java compilation and execution sequence for a source file named A.java containing public class A and non-public class B:  Java programs are, in effect, distributed applications. You may think of them as a collection of DLLs (dynamically loadable libraries) that are linked on demand at runtime. When you write your own Java applications, you will often integrate  your program with already-existing portions of code that reside on other machines.  A Simple Application Consider the following trivial application that prints \"hi there\" to standard output:    Java Basics  © 1996-2003 jGuru.com. All Rights Reserved. Java Basics -5  public class TrivialApplication  }  The command java TrivialApplication tells the Java runtime system to begin with the class file TrivialApplication.class and to look in that file for a method with the signature:  public static void main(String args);  The main() method will always reside in one of your class files. The Java language does not allow methods outside of class definitions. The class, in effect, creates scoped symbol StartingClassName.main for your main() method.  Applet Execution An applet is a Java program that runs within a Java-compatible WWW browser or in an appletviewer. To execute your applet, the browser:  • Creates an instance of your applet  • Sends messages to your applet to automatically invoke predefined lifecycle methods  The predefined methods automatically invoked by the runtime system are:  • init(). This method takes the place of the Applet constructor and is only called once during applet creation. Instance variables should be initialized in this method. GUI components such as buttons and scrollbars should be added to the GUI in this method.  • start(). This method is called once after init() and whenever your applet is revisited by your browser, or when you deiconify your browser. This method should be used to start animations and other threads.  • paint(Graphics g). This method is called when the applet drawing area needs to be redrawn. Anything not drawn by contained components must be drawn in this method. Bitmaps, for example, are drawn here, but buttons are not because they handle their own painting.  • stop(). This method is called when you leave an applet or when you iconify your browser. The method should be used to suspend animations and other    Java Basics  Java Basics -6 © 1996-2003 jGuru.com. All Rights Reserved.  threads so they do not burden system resources unnecessarily. It is guaranteed to be called before destroy().  • destroy(). This method is called when an applet terminates, for example, when quitting the browser. Final clean-up operations such as freeing up system resources with dispose() should be done here. The dispose() method of Frame removes the menu bar. Therefore, do not forget to call super.dispose() if you override the default behavior.  The basic structure of an applet that uses each of these predefined methods is:  import java.applet.Applet; import java.awt.*;  public class AppletTemplate extends Applet    public void start()    public void paint(Graphics g)    public void stop()    public void destroy()  }  All you have to do is fill in the appropriate methods to bring your applet to life. If you don't need to use one or more of these predefined methods, simply leave them out of your applet. The applet will ignore messages from the browser attempting to invoke any of these methods that you don't use.  A Simple Applet The following complete applet displays \"Hello, World Wide Web!\" in your browser window:  import java.applet.Applet; import java.awt.Graphics;  public class TrivialApplet extends Applet  }  An appletviewer may be used instead of a WWW browser to test applets. For example, the output of TrivialApplet on an appletviewer looks like:  HTML/Applet Interface The HTML applet tag is similar to the HTML img tag, and has the form:  <applet code=AppletName.class width=w height=h>  </applet>  where the optional parameters are a list of parameter definitions of the form:  <param name=n value=v>  An example tag with parameter definitions is:  <applet code=AppletName.class width=300 height=200> <param name=p1 value=34> <param name=p2 value=\"test\"> </applet>  where p1 and p2 are user-defined parameters.  The code, width, and height parameters are mandatory. The parameters codebase, alt, archives, align, vspace, and hspace are optional within the <applet> tag itself. Your applet can access any of these parameters by calling:  Applet.getParameter(\"p\")  which returns the String value of the parameter. For example, the applet:  import java.applet.Applet;  public class ParamTest extends Applet  }  prints the following to standard output:  width is 300 p1 is 34 p2 is test  Comments Java comments are the same as C++ comments, i.e.,  /* C-style block comments */  where all text between the opening /* and closing */ is ignored, and   where all text from the opening  Note that these two comments can make a very useful combination. C-style comments (/* ... */) cannot be nested, but can contain C++ style comments. This leads to the interesting observation that if you always use C++-style comments (it with C-style comments. So try to use C++ style comments for your \"normal\" code commentary, and reserve C-style comments for commenting out sections of code.  The Java language also has a document comment:  /** document comment */  These comments are processed by the javadoc program to generate documentation from your source code. For example,  /** This class does blah blah blah */ class Blah  }    Java Basics  © 1996-2003 jGuru.com. All Rights Reserved. Java Basics -9  Declarations A Java variable may refer to an object, an array, or an item of primitive type. Variables are defined using the following simple syntax:  TypeName variableName;  For example,  int a;     int b;   Vector v;   Primitive Types  The Java language has the following primitive types:  Primitive Types  Primitive Type Description  boolean true/false  byte 8 bits  char 16 bits (UNICODE)  short 16 bits  int 32 bits  long 64 bits  float 32 bits IEEE 754-1985  double 64 bits IEEE 754-1985  Java int types may not be used as boolean types and are always signed.  Objects  A simple C++ object or C struct definition such as \"Button b;\" allocates memory on the stack for a Button object and makes b refer to it. By contrast, you must specifically instantiate Java objects with the new operator. For example,    Java Basics  Java Basics -10 © 1996-2003 jGuru.com. All Rights Reserved.   void foo()   As the accompanying figure shows, this code places a reference b to the Button object on the stack and allocates memory for the new object on the heap.  The equivalent C++ and C statements that would allocate memory on the heap would be:  Button *         /* C code */ Button *              /* declare a new Button pointer */  /* allocate space for a Button */ init(b, \"OK\");                 /* something like this to init b */  All Java objects reside on the heap; there are no objects stored on the stack. Storing objects on the heap does not cause potential memory leakage problems because of garbage collection.  Each Java primitive type has an equivalent object type, e.g., Integer, Byte, Float, Double. These primitive types are provided in addition to object types purely for efficiency. An int is much more efficient than an Integer.    Java Basics  © 1996-2003 jGuru.com. All Rights Reserved. Java Basics -11  Strings  Java string literals look the same as those in C/C++, but Java strings are real objects, not pointers to memory. Java strings may or may not be null-terminated. Every string literal such as  \"a string literal\"  is interpreted by the Java compiler as  new String(\"a string literal\")  Java strings are constant in length and content. For variable-length strings, use StringBuffer objects.  Strings may be concatenated by using the plus operator:    You may concatenate any object to a string. You use the toString() method to convert objects to a String, and primitive types are converted by the compiler. For example,    The length of a string may be obtained with String method length(); e.g., \"abc\".length() has the value 3.  To convert an int to a String, use:    To convert a String to an int, use:    Array Objects  In C and C++, arrays are pointers to data in memory. Java arrays are objects that know the number and type of their elements. The first element is index 0, as in C/C++.  Generic Array Object  # elements    Java Basics  Java Basics -12 © 1996-2003 jGuru.com. All Rights Reserved.  element type  element 0  element 1  ...  element n-1  The syntax for creating an array object is:  TypeName variableName;  This declaration defines the array object--it does not allocate memory for the array object nor does it allocate the elements of the array In addition, you may not specify a size within the square brackets.  To allocate an array, use the new operator:     new int  5  int  0  0  0  0  0  In C or C++, by contrast, you would write either  /* C/C++ code: make array of 5 ints on the stack */ int a;  or  /* C/C++ code: make array of 5 ints on the heap */    Java Basics  © 1996-2003 jGuru.com. All Rights Reserved. Java Basics -13  int *  An array of Java objects such as    creates the array object itself, but not the elements:  new Button  5  Button  null pointer  null pointer  null pointer  null pointer  null pointer  You must use the new operator to create the elements:  a, \"OK\"); /* Allocate another button */ a, \"QUIT\");  Multi-dimensional Java arrays are created by making arrays of arrays, just as in C/C++. For example,    makes a five-element array of ten arrays of references to objects of type T. This statement does not allocate memory for any T objects.  Accessing an undefined array element causes a runtime exception called ArrayIndexOutOfBoundsException.  Accessing a defined array element that has not yet been assigned to an object results in a runtime NullPointerException.  Initializers  Variables may be initialized as follows:  • Primitive types     • Objects     • Arrays    or in Java 1.1  int i;   Constants  Variables modified by the static final keywords are constants (equivalent to the const keyword in C++; no equivalent in C). For example,        Java Basics  © 1996-2003 jGuru.com. All Rights Reserved. Java Basics -15  Expressions Most Java expressions are similar to those in C/C++.  Constant Expressions  Item Examples or Description  id i, nameList  qualified-id Integer.MAX_VALUE, obj.member, npackage.class, package.obj  id... a, b  String literal \"Jim\", delimited by \"\"  char literal 'a', '\\t', delimited by ''  Unicode character constant \\u00ae  boolean literal true, false (not an int)  int constant 4  float constant 3.14f, 2.7e6F, f or F suffix  double constant 3.14, 2.7e6D, (default) / d or D suffix  hexadecimal constant 0x123  octal constant 077  null the null object (note lowercase!)  this the current object  super the superclass view of this object  General Expressions  Item Examples or Description    Java Basics  Java Basics -16 © 1996-2003 jGuru.com. All Rights Reserved.  id i, nameList  obj.method(args) instance method call  class.method(args) class method call  ( expr ) (3+4)*7  new T(constructor-args) instantiates a new object or class T  new T... allocates an array object  Operators  The Java language has added the >>> zero-extend right-shift operator to the set of C++ operators. (C++ operators include instanceof and new, which are not present in C. Note that sizeof has been removed, as memory allocation is handled for you.) The operators, in order of highest to lowest priority, are:  • new  • .  • -- ++ + - ~ ! (TypeName)  • * / %  • + -  • << >> >>>  • < > <= >= instanceof  • == !=  • &  • ^  • |  • &&  • ||  • ?:  • = *= /= %= += -= <<= >>= >>>= &= ^= |=  Note that the precedence of the new operator and the '.' operator bind    Java Basics  © 1996-2003 jGuru.com. All Rights Reserved. Java Basics -17  differently than in C++. A proper Java statement is:  new T().method();  In C++, you would use:   (new T)->method();  Statements Java statements are similar to those in C/C++ as the following table shows.  Forms of Common Statements  Statement Examples  if if (boolean-expr) stat1 if (boolean-expr) stat1 else stat2  switch  switch (int-expr)   for for ( i++) stat  while while (boolean-expr) stat  do-while do  while (boolean-expr)  return return expr;  The Java break and continue statements may have labels. These labels refer to the specific loop that the break or continue apply to. (Each loop can be preceded by a label.)  Java Semantics We say that the Java language has \"reference semantics\" and C/C++ have \"copy semantics.\" This means that Java objects are passed to methods by reference in Java, while objects are passed by value in C/C++.  Java primitive types, however, are not treated in the same way as Java objects. Primitive types are assigned, compared, and passed as arguments using copy    Java Basics  Java Basics -18 © 1996-2003 jGuru.com. All Rights Reserved.  semantics, just as in C/C++. For example, i = j for two int variables i and j performs a 32-bit integer copy.  Assignment of Objects  Assignment makes two variables refer to the same object. For example,  class Data  }                    III     a.                  To copy objects, define and use clone():  class Data implements Cloneable    public Object clone()  }  ...            a.              Java Basics  © 1996-2003 jGuru.com. All Rights Reserved. Java Basics -19  Note: The above class definition requires exception handling code. We, however, have not yet discussed exception handling. For now, pretend that it is not necessary.  Method Parameters and Return Values  Arguments and return values for primitive types are passed by value to and from all Java methods because they are implied assignments, as in C/C++. However, all Java objects are passed by reference. For example, the C/C++ code:   int foo(int j)  Button *bfoo(Button *b)   or, in C  /* C code */  int foo(int j)  Button *bfoo(Button *b)   would be written in the Java language:   int foo(int j)  Button bfoo(Button b)   Equality  Two Java primitive types are equal (using the == operator) when they have the same value (e.g., \"3 == 3\"). However, two object variables are equal if and only if they refer to the same instantiated object--a \"shallow\" comparison. For example,  void test()   To perform a \"deep\" comparison, the convention is to define a method called equals(). You would rewrite Data as:  class Data    boolean equals(Data d)  }  ...     No Pointers! The Java language does not have pointer types nor address arithmetic. Java variables are either primitive types or references to objects. To illustrate the difference between C/C++ and Java semantics, consider the following equivalent code fragments.   Stack * s->push(...);   The equivalent Java code is:    s.push(...);  Garbage Collection An automatic garbage collector deallocates memory for objects that are no longer needed by your program, thereby relieving you from the tedious and error-prone    Java Basics  © 1996-2003 jGuru.com. All Rights Reserved. Java Basics -21  task of deallocating your own memory.  As a consequence of automatic garbage collection and lack of pointers, a Java object is either null or valid--there is no way to refer to an invalid or stale object (one that has been deallocated).  To illustrate the effect of a garbage collector, consider the following C++ function that allocates 1000 objects on the heap via the new operator (a similar C function would allocate memory using calloc/malloc):   void f()  }  Every time the loop body is executed, a new instance of class T is instantiated, and t is pointed to it. But what happens to the instance that t used to point to? It's still allocated, but nothing points to it and therefore it's inaccessible. Memory in this state is referred to as \"leaked\" memory.  In the Java language, memory leaks are not an issue. The following Java method causes no ill effects:   void f()  }  In Java, each time t is assigned a new reference, the old reference is now available for garbage collection. Note that it isn't immediately freed; it remains allocated until the garbage collector thread is next executed and notices that it can be freed.  Put simply, automatic garbage collection reduces programming effort, programming errors, and program complexity.   [Version: $Id:    Java Basics  Java Basics -22 © 1996-2003 jGuru.com. All Rights Reserved.    Java Basics  © 1996-2003 jGuru.com. All Rights Reserved. Java Basics -23  This page intentionally left blank   \n"
     ]
    }
   ],
   "source": [
    "text = raw['content']\n",
    "\n",
    "subs = [r'[A-Za-z \\[\\]]*=.*;', '//.*\\n']\n",
    "#subs = []\n",
    "for sub in subs:\n",
    "    text = re.sub(sub, '', text)\n",
    "text = text.replace('\\n',' ')   \n",
    "text = re.sub(r'\\{(.*?)\\}', '', text)\n",
    "text = re.sub(r'\\[(.*?)\\]', '', text)\n",
    "\n",
    "#print(text)\n",
    "\n",
    "unwanted_chars = '<([{\\^-=$!|]})?*+.>•©'\n",
    "for ch in unwanted_chars:\n",
    "    text = text.replace(ch, ' ')\n",
    "\n",
    "\n"
   ]
  },
  {
   "cell_type": "code",
   "execution_count": 96,
   "metadata": {},
   "outputs": [
    {
     "data": {
      "text/plain": [
       "[('java runtime system', 8.132229832572298),\n",
       " ('boolean expr  stat1', 8.0),\n",
       " ('java primitive types', 7.503261578604045),\n",
       " ('button  bfoo button', 7.266666666666666),\n",
       " ('applet code appletname', 6.833333333333333),\n",
       " ('java applet applet', 6.479452054794521),\n",
       " ('rights reserved', 5.333333333333333),\n",
       " ('java strings', 5.079452054794521),\n",
       " ('primitive types', 5.023809523809524),\n",
       " ('java programs', 4.812785388127854),\n",
       " ('garbage collection', 4.7),\n",
       " ('java objects', 4.646118721461187),\n",
       " ('predefined methods', 4.527777777777778),\n",
       " ('java applications', 4.3683409436834095),\n",
       " ('java language', 4.346118721461187),\n",
       " ('www browser', 4.318181818181818),\n",
       " ('style comments', 4.309523809523809),\n",
       " ('button object', 4.008333333333333),\n",
       " ('compilation unit', 4.0),\n",
       " ('allocates memory', 3.892857142857143),\n",
       " ('array object', 3.875),\n",
       " ('allocate memory', 3.767857142857143),\n",
       " ('standard output', 3.666666666666667),\n",
       " ('typename variablename', 3.666666666666667),\n",
       " ('make array', 3.666666666666667),\n",
       " ('string literal', 3.5142857142857142),\n",
       " ('parameter definitions', 3.3333333333333335),\n",
       " ('java', 2.4794520547945207),\n",
       " ('arrays', 2.4285714285714284),\n",
       " ('statements', 2.4),\n",
       " ('types', 2.357142857142857),\n",
       " ('equivalent', 2.3333333333333335),\n",
       " ('type', 2.3333333333333335),\n",
       " ('program', 2.25),\n",
       " ('makes', 2.25),\n",
       " ('objects', 2.1666666666666665),\n",
       " ('comments', 2.1666666666666665),\n",
       " ('expr', 2.1666666666666665),\n",
       " ('memory', 2.142857142857143),\n",
       " ('button', 2.1333333333333333),\n",
       " ('data', 2.111111111111111),\n",
       " ('defined', 2.0),\n",
       " ('applet', 2.0),\n",
       " ('/applet', 2.0),\n",
       " ('test', 2.0),\n",
       " ('array', 2.0),\n",
       " ('stack', 2.0),\n",
       " ('method', 1.9166666666666667),\n",
       " ('applications', 1.8888888888888888),\n",
       " ('file', 1.8888888888888888),\n",
       " ('object', 1.875),\n",
       " ('language', 1.8666666666666667),\n",
       " ('code', 1.8333333333333333),\n",
       " ('browser', 1.8181818181818181),\n",
       " ('length', 1.8),\n",
       " ('methods', 1.7777777777777777),\n",
       " ('instance', 1.75),\n",
       " ('operators', 1.75),\n",
       " ('string', 1.7142857142857142),\n",
       " ('classes', 1.6666666666666667),\n",
       " ('write', 1.6666666666666667),\n",
       " ('reside', 1.6666666666666667),\n",
       " ('allocate', 1.625),\n",
       " ('applets', 1.4444444444444444),\n",
       " ('called', 1.375),\n",
       " ('definition', 1.3333333333333333),\n",
       " ('dispose', 1.3333333333333333),\n",
       " ('refer', 1.3333333333333333),\n",
       " ('convert', 1.3333333333333333),\n",
       " ('library', 1.25),\n",
       " ('init', 1.25),\n",
       " ('reference', 1.1666666666666667),\n",
       " ('operator', 1.125),\n",
       " ('secure', 1.0),\n",
       " ('robust', 1.0),\n",
       " ('executed', 1.0),\n",
       " ('part', 1.0),\n",
       " ('effect', 1.0),\n",
       " ('contrast', 1.0),\n",
       " ('state', 1.0),\n",
       " ('subclass', 1.0),\n",
       " ('appletviewer', 1.0),\n",
       " ('creates', 1.0),\n",
       " ('initialized', 1.0),\n",
       " ('buttons', 1.0),\n",
       " ('added', 1.0),\n",
       " ('drawn', 1.0),\n",
       " ('trivialapplet', 1.0),\n",
       " ('similar', 1.0),\n",
       " ('form', 1.0),\n",
       " ('width', 1.0),\n",
       " ('text', 1.0),\n",
       " ('heap', 1.0),\n",
       " ('addition', 1.0),\n",
       " ('pointers', 1.0),\n",
       " ('elements', 1.0),\n",
       " ('5 ints', 1.0),\n",
       " ('references', 1.0),\n",
       " ('assigned', 1.0),\n",
       " ('delimited', 1.0),\n",
       " ('passed', 1.0),\n",
       " ('define', 1.0),\n",
       " ('equal', 1.0),\n",
       " ('comparison', 1.0),\n",
       " ('illustrate', 1.0),\n",
       " ('push', 1.0),\n",
       " ('function', 1.0),\n",
       " ('time', 1.0)]"
      ]
     },
     "execution_count": 96,
     "metadata": {},
     "output_type": "execute_result"
    }
   ],
   "source": [
    "import RAKE\n",
    "my_additional_stops = ['null', 'pointer', 'abstract','continue','switch','assert','goto','package','synchronized','private','this','break','double','implements','protected','throw','byte','else','import','public','throws','case','enum','instanceof','return','transient','catch','extends','int','short','try','char','final','interface','static','void','class','finally','long\tstrictfp','volatile','const','float','native','super','while']\n",
    "new_stop_list = my_additional_stops + RAKE.SmartStopList()\n",
    "\n",
    "Rake = RAKE.Rake(new_stop_list)\n",
    "Rake.run(text, minCharacters=4, maxWords=4, minFrequency=2)"
   ]
  },
  {
   "cell_type": "code",
   "execution_count": null,
   "metadata": {},
   "outputs": [],
   "source": []
  }
 ],
 "metadata": {
  "kernelspec": {
   "display_name": "Python 3",
   "language": "python",
   "name": "python3"
  },
  "language_info": {
   "codemirror_mode": {
    "name": "ipython",
    "version": 3
   },
   "file_extension": ".py",
   "mimetype": "text/x-python",
   "name": "python",
   "nbconvert_exporter": "python",
   "pygments_lexer": "ipython3",
   "version": "3.6.5"
  }
 },
 "nbformat": 4,
 "nbformat_minor": 2
}
